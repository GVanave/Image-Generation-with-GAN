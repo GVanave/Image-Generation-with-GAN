{
 "cells": [
  {
   "cell_type": "markdown",
   "metadata": {},
   "source": [
    "# Generative Adverserial Network"
   ]
  },
  {
   "cell_type": "code",
   "execution_count": 1,
   "metadata": {},
   "outputs": [],
   "source": [
    "import matplotlib.pyplot as plt\n",
    "import numpy as np\n",
    "import tensorflow as tf\n",
    "from keras import layers"
   ]
  },
  {
   "cell_type": "code",
   "execution_count": 98,
   "metadata": {},
   "outputs": [],
   "source": [
    "# read the dataset\n",
    "(X_train, y_train), (X_test,y_test) = tf.keras.datasets.mnist.load_data()"
   ]
  },
  {
   "cell_type": "code",
   "execution_count": 99,
   "metadata": {},
   "outputs": [],
   "source": [
    "def display_image(training_images, training_labels, number_of_images_disply, name_of_dataset):\n",
    "    \n",
    "    if not training_images.shape[0] == 0:\n",
    "        # display images from the dataset\n",
    "        index= []\n",
    "        while  len(index) < number_of_images_disply:\n",
    "            i = np.random.randint(0,training_labels.shape[0])\n",
    "            index.append(i)\n",
    "\n",
    "        print(training_images[0].shape)\n",
    "        \n",
    "        \n",
    "\n",
    "        num_rows = 1  # Number of rows\n",
    "        num_cols = len(index)  # Number of columns\n",
    "\n",
    "            # Create a figure with a grid layout\n",
    "        fig, axes = plt.subplots(num_rows, num_cols, figsize=(12, 4))\n",
    "\n",
    "            # If there is only one image, `axes` is not a list, so we need to convert it to a list\n",
    "        if num_cols == 1:\n",
    "            axes = [axes]\n",
    "\n",
    "            # Iterate through the images and display them\n",
    "        for i, ax in enumerate(axes):\n",
    "            ax.imshow(training_images[index[i]])\n",
    "           \n",
    "            ax.axis('off')\n",
    "            \n",
    "\n",
    "        plt.title(f\"Images from datasets {name_of_dataset}\")\n",
    "        plt.show()\n",
    "\n",
    "    else:\n",
    "        ValueError(\"training_x_images doesn't contain images, it is empty\")"
   ]
  },
  {
   "cell_type": "code",
   "execution_count": 100,
   "metadata": {},
   "outputs": [
    {
     "name": "stdout",
     "output_type": "stream",
     "text": [
      "(28, 28)\n"
     ]
    },
    {
     "data": {
      "image/png": "[encoded data removed]",
      "text/plain": [
       "<Figure size 1200x400 with 5 Axes>"
      ]
     },
     "metadata": {},
     "output_type": "display_data"
    }
   ],
   "source": [
    "display_image(X_train,y_train,5,\"MNIST\")"
   ]
  },
  {
   "cell_type": "code",
   "execution_count": 101,
   "metadata": {},
   "outputs": [],
   "source": [
    "X_train = X_train.reshape(X_train.shape[0],28,28,1).astype('float32')"
   ]
  },
  {
   "cell_type": "code",
   "execution_count": 102,
   "metadata": {},
   "outputs": [
    {
     "data": {
      "text/plain": [
       "(60000, 28, 28, 1)"
      ]
     },
     "execution_count": 102,
     "metadata": {},
     "output_type": "execute_result"
    }
   ],
   "source": [
    "X_train.shape"
   ]
  },
  {
   "cell_type": "code",
   "execution_count": 103,
   "metadata": {},
   "outputs": [
    {
     "data": {
      "text/plain": [
       "(0.0, 255.0)"
      ]
     },
     "execution_count": 103,
     "metadata": {},
     "output_type": "execute_result"
    }
   ],
   "source": [
    "X_train[0].min(),X_train[0].max()"
   ]
  },
  {
   "cell_type": "markdown",
   "metadata": {},
   "source": [
    "As we have noticed now the min max values has different ranges so it is better to have them on the same range. Which makes processing faster and efficient."
   ]
  },
  {
   "cell_type": "code",
   "execution_count": 104,
   "metadata": {},
   "outputs": [],
   "source": [
    "# Normalization of image data\n",
    "#X_train = X_train / 255.0\n",
    "X_train = (X_train - 127.5) / 127.5"
   ]
  },
  {
   "cell_type": "code",
   "execution_count": 106,
   "metadata": {},
   "outputs": [],
   "source": [
    "buffer_size = 60000\n",
    "batch_size = 256"
   ]
  },
  {
   "cell_type": "code",
   "execution_count": 108,
   "metadata": {},
   "outputs": [],
   "source": [
    "# Convert the array to tensor\n",
    "X_train = tf.data.Dataset.from_tensor_slices(X_train).shuffle(buffer_size).batch(batch_size)"
   ]
  },
  {
   "cell_type": "code",
   "execution_count": 111,
   "metadata": {},
   "outputs": [
    {
     "name": "stderr",
     "output_type": "stream",
     "text": [
      "To https://github.com/GVanave/Image-Generation-with-GAN\n",
      "   b9c8bad..076a216  main -> main\n"
     ]
    }
   ],
   "source": [
    "!git push"
   ]
  },
  {
   "cell_type": "markdown",
   "metadata": {},
   "source": [
    "# Design the Generator"
   ]
  },
  {
   "cell_type": "code",
   "execution_count": 171,
   "metadata": {},
   "outputs": [],
   "source": [
    "\n",
    "\n",
    "def Generator():\n",
    "    generator_net = tf.keras.Sequential()\n",
    "\n",
    "    generator_net.add(layers.Dense(7*7*256, input_shape=(100,)) ) # Fully connected layer\n",
    "    generator_net.add(layers.BatchNormalization())\n",
    "    generator_net.add(layers.LeakyReLU())\n",
    "\n",
    "    # Reshape the input because we want to use the convolutional layers\n",
    "    generator_net.add(layers.Reshape((7, 7, 256)))\n",
    "    generator_net.add(layers.Conv2DTranspose(128, (5, 5), strides=(2, 2), padding='same'))\n",
    "    generator_net.add(layers.BatchNormalization())\n",
    "    generator_net.add(layers.LeakyReLU())\n",
    "\n",
    "    generator_net.add(layers.Conv2DTranspose(64, (5, 5), strides=(2, 2), padding='same'))\n",
    "    generator_net.add(layers.BatchNormalization())\n",
    "    generator_net.add(layers.LeakyReLU())\n",
    "\n",
    "    generator_net.add(layers.Conv2DTranspose(1, (5, 5), strides=(1, 1), padding='same', activation='sigmoid'))\n",
    "    generator_net.add(layers.BatchNormalization())\n",
    "\n",
    "    generator_net.summary()\n",
    "\n",
    "    return generator_net\n",
    "\n"
   ]
  },
  {
   "cell_type": "code",
   "execution_count": 172,
   "metadata": {},
   "outputs": [
    {
     "name": "stdout",
     "output_type": "stream",
     "text": [
      "Model: \"sequential_12\"\n",
      "_________________________________________________________________\n",
      " Layer (type)                Output Shape              Param #   \n",
      "=================================================================\n",
      " dense_8 (Dense)             (None, 12544)             1266944   \n",
      "                                                                 \n",
      " batch_normalization_24 (Bat  (None, 12544)            50176     \n",
      " chNormalization)                                                \n",
      "                                                                 \n",
      " leaky_re_lu_22 (LeakyReLU)  (None, 12544)             0         \n",
      "                                                                 \n",
      " reshape_6 (Reshape)         (None, 7, 7, 256)         0         \n",
      "                                                                 \n",
      " conv2d_transpose_18 (Conv2D  (None, 14, 14, 128)      819328    \n",
      " Transpose)                                                      \n",
      "                                                                 \n",
      " batch_normalization_25 (Bat  (None, 14, 14, 128)      512       \n",
      " chNormalization)                                                \n",
      "                                                                 \n",
      " leaky_re_lu_23 (LeakyReLU)  (None, 14, 14, 128)       0         \n",
      "                                                                 \n",
      " conv2d_transpose_19 (Conv2D  (None, 28, 28, 64)       204864    \n",
      " Transpose)                                                      \n",
      "                                                                 \n",
      " batch_normalization_26 (Bat  (None, 28, 28, 64)       256       \n",
      " chNormalization)                                                \n",
      "                                                                 \n",
      " leaky_re_lu_24 (LeakyReLU)  (None, 28, 28, 64)        0         \n",
      "                                                                 \n",
      " conv2d_transpose_20 (Conv2D  (None, 28, 28, 1)        1601      \n",
      " Transpose)                                                      \n",
      "                                                                 \n",
      " batch_normalization_27 (Bat  (None, 28, 28, 1)        4         \n",
      " chNormalization)                                                \n",
      "                                                                 \n",
      "=================================================================\n",
      "Total params: 2,343,685\n",
      "Trainable params: 2,318,211\n",
      "Non-trainable params: 25,474\n",
      "_________________________________________________________________\n"
     ]
    }
   ],
   "source": [
    "generator = Generator()"
   ]
  },
  {
   "cell_type": "code",
   "execution_count": 173,
   "metadata": {},
   "outputs": [],
   "source": [
    "# create a noise vector with shape \n",
    "noise  = tf.random.normal([1,100])"
   ]
  },
  {
   "cell_type": "code",
   "execution_count": 174,
   "metadata": {},
   "outputs": [
    {
     "name": "stdout",
     "output_type": "stream",
     "text": [
      "1/1 [==============================] - 0s 165ms/step\n"
     ]
    }
   ],
   "source": [
    "generated_image = generator.predict(noise)\n"
   ]
  },
  {
   "cell_type": "code",
   "execution_count": 175,
   "metadata": {},
   "outputs": [
    {
     "data": {
      "text/plain": [
       "Text(0.5, 1.0, 'Generated image')"
      ]
     },
     "execution_count": 175,
     "metadata": {},
     "output_type": "execute_result"
    },
    {
     "data": {
      "image/png": "[encoded data removed]",
      "text/plain": [
       "<Figure size 640x480 with 1 Axes>"
      ]
     },
     "metadata": {},
     "output_type": "display_data"
    }
   ],
   "source": [
    "plt.imshow(generated_image[0,:,:,0], cmap = 'gray')\n",
    "plt.title(\"Generated image\")"
   ]
  },
  {
   "cell_type": "code",
   "execution_count": 176,
   "metadata": {},
   "outputs": [
    {
     "data": {
      "text/plain": [
       "(1, 28, 28, 1)"
      ]
     },
     "execution_count": 176,
     "metadata": {},
     "output_type": "execute_result"
    }
   ],
   "source": [
    "generated_image.shape"
   ]
  },
  {
   "cell_type": "markdown",
   "metadata": {},
   "source": [
    "# Design of the Discriminator"
   ]
  },
  {
   "cell_type": "code",
   "execution_count": 149,
   "metadata": {},
   "outputs": [],
   "source": [
    "def Discriminator():\n",
    "    dis_network = tf.keras.Sequential()\n",
    "\n",
    "    # discriminator takes the image as input\n",
    "    # 14 * 14 * 64\n",
    "    dis_network.add(layers.Conv2D(64, (5,5), strides = (2,2), padding = 'same', input_shape = (28,28,1)))\n",
    "    dis_network.add(layers.LeakyReLU())\n",
    "    dis_network.add(layers.Dropout(0.2))\n",
    "\n",
    "    # 7 * 7 * 128\n",
    "    dis_network.add(layers.Conv2D(128, (5,5), strides = (2,2), padding = 'same', input_shape = (28,28,1)))\n",
    "    dis_network.add(layers.LeakyReLU())\n",
    "    dis_network.add(layers.Dropout(0.2))\n",
    "\n",
    "    dis_network.add(layers.Flatten())\n",
    "    dis_network.add(layers.Dense(1))\n",
    "\n",
    "    dis_network.summary()\n",
    "\n",
    "    return dis_network"
   ]
  },
  {
   "cell_type": "code",
   "execution_count": 150,
   "metadata": {},
   "outputs": [
    {
     "name": "stdout",
     "output_type": "stream",
     "text": [
      "Model: \"sequential_9\"\n",
      "_________________________________________________________________\n",
      " Layer (type)                Output Shape              Param #   \n",
      "=================================================================\n",
      " conv2d_2 (Conv2D)           (None, 14, 14, 64)        1664      \n",
      "                                                                 \n",
      " leaky_re_lu_14 (LeakyReLU)  (None, 14, 14, 64)        0         \n",
      "                                                                 \n",
      " dropout_2 (Dropout)         (None, 14, 14, 64)        0         \n",
      "                                                                 \n",
      " conv2d_3 (Conv2D)           (None, 7, 7, 128)         204928    \n",
      "                                                                 \n",
      " leaky_re_lu_15 (LeakyReLU)  (None, 7, 7, 128)         0         \n",
      "                                                                 \n",
      " dropout_3 (Dropout)         (None, 7, 7, 128)         0         \n",
      "                                                                 \n",
      " flatten_1 (Flatten)         (None, 6272)              0         \n",
      "                                                                 \n",
      " dense_5 (Dense)             (None, 1)                 6273      \n",
      "                                                                 \n",
      "=================================================================\n",
      "Total params: 212,865\n",
      "Trainable params: 212,865\n",
      "Non-trainable params: 0\n",
      "_________________________________________________________________\n"
     ]
    }
   ],
   "source": [
    "disciminator  = Discriminator()"
   ]
  },
  {
   "cell_type": "code",
   "execution_count": 177,
   "metadata": {},
   "outputs": [
    {
     "name": "stdout",
     "output_type": "stream",
     "text": [
      "1/1 [==============================] - 0s 101ms/step\n"
     ]
    },
    {
     "data": {
      "text/plain": [
       "array([[0.04896173]], dtype=float32)"
      ]
     },
     "execution_count": 177,
     "metadata": {},
     "output_type": "execute_result"
    }
   ],
   "source": [
    "# check the discriminator\n",
    "disciminator.predict(generated_image)"
   ]
  },
  {
   "cell_type": "markdown",
   "metadata": {},
   "source": [
    "# building of loss function\n"
   ]
  },
  {
   "cell_type": "markdown",
   "metadata": {},
   "source": [
    "*Calculate the loss for generator and discriminator*"
   ]
  },
  {
   "cell_type": "code",
   "execution_count": 193,
   "metadata": {},
   "outputs": [],
   "source": [
    "# define a loss function\n",
    "cross_ent = tf.keras.losses.BinaryCrossentropy(from_logits=True)"
   ]
  },
  {
   "cell_type": "code",
   "execution_count": 194,
   "metadata": {},
   "outputs": [],
   "source": [
    "def generator_loss(fake_output):\n",
    "    return cross_ent(tf.ones_like(fake_output), fake_output)\n"
   ]
  },
  {
   "cell_type": "code",
   "execution_count": 195,
   "metadata": {},
   "outputs": [],
   "source": [
    "def discriminator_loss(expected_output, fake_output):\n",
    "\n",
    "    real_loss = cross_ent(tf.ones_like(expected_output), expected_output)\n",
    "    fake_loss = cross_ent(tf.zeros_like(fake_output), fake_output)\n",
    "\n",
    "    total_loss = real_loss + fake_loss\n",
    "\n",
    "    return total_loss"
   ]
  },
  {
   "cell_type": "code",
   "execution_count": 196,
   "metadata": {},
   "outputs": [],
   "source": [
    "# define the optimizer for the generator\n",
    "opt_generator = tf.keras.optimizers.Adam(learning_rate = 0.00001)\n",
    "opt_discriminator = tf.keras.optimizers.Adam(learning_rate = 0.00001)"
   ]
  },
  {
   "cell_type": "markdown",
   "metadata": {},
   "source": [
    "# Define the parameters\n"
   ]
  },
  {
   "cell_type": "code",
   "execution_count": 197,
   "metadata": {},
   "outputs": [],
   "source": [
    "epochs = 100\n",
    "noise_dim  = 100\n",
    "num_images_to_generator = 16\n"
   ]
  },
  {
   "cell_type": "markdown",
   "metadata": {},
   "source": [
    "# Define the training step"
   ]
  },
  {
   "cell_type": "code",
   "execution_count": 201,
   "metadata": {},
   "outputs": [],
   "source": [
    "def train_step(images):\n",
    "    noise_generated = tf.random.normal([batch_size, noise_dim])\n",
    "    with tf.GradientTape() as gen_tape, tf.GradientTape() as disc_tape:\n",
    "        generated_images = generator(noise_generated)\n",
    "\n",
    "        # discriminator takes this geenrated images and tried to make guesses\n",
    "        fake_output = disciminator(generated_images)\n",
    "        # discriminator also takes original images\n",
    "        expected_output = disciminator(images)\n",
    "\n",
    "        # calculate the generator and discriminator loss\n",
    "        calculated_gen_loss = generator_loss(fake_output)\n",
    "        calculated_dis_loss = discriminator_loss(expected_output, fake_output)\n",
    "\n",
    "\n",
    "    # define the parameters needs to be optimized during the training, one param will be generator parameters and another is generator loss\n",
    "    trainiable_parameters_generator_network = generator.trainable_variables\n",
    "    gradient_generator = gen_tape.gradient(calculated_gen_loss, trainiable_parameters_generator_network)\n",
    "\n",
    "\n",
    "    # define the parameters needs to be optimized during the training, one param will be discriminator parameters and another is discriminator loss\n",
    "    trainiable_parameters_discriminator_network = disciminator.trainable_variables\n",
    "    gradient_discriminator = disc_tape.gradient(calculated_dis_loss, trainiable_parameters_discriminator_network)\n",
    "\n",
    "    # call the designed optimizers \n",
    "\n",
    "    opt_generator.apply_gradients(zip(gradient_generator, generator.trainable_variables))\n",
    "    opt_discriminator.apply_gradients(zip(gradient_discriminator, disciminator.trainable_variables))\n"
   ]
  },
  {
   "cell_type": "markdown",
   "metadata": {},
   "source": [
    "# Training of GAN"
   ]
  },
  {
   "cell_type": "code",
   "execution_count": 204,
   "metadata": {},
   "outputs": [],
   "source": [
    "number_of_images_to_generate = 16"
   ]
  },
  {
   "cell_type": "code",
   "execution_count": 215,
   "metadata": {},
   "outputs": [],
   "source": [
    "test_image = tf.random.normal([number_of_images_to_generate, noise_dim])"
   ]
  },
  {
   "cell_type": "code",
   "execution_count": 216,
   "metadata": {},
   "outputs": [],
   "source": [
    "def train_GAN(dataset, epochs, test_images):\n",
    "    for epoch in range(epochs):\n",
    "        for image_batch in dataset:\n",
    "            #print(image_batch.shape)\n",
    "            train_step(image_batch)\n",
    "        print(\"Training Epoch:\", epoch + 1)\n",
    "        generated_image = generator(test_images)\n",
    "        fig  = plt.figure(figsize = (10,10))\n",
    "        for i in range(generated_image.shape[0]):\n",
    "            plt.subplot(4,4, i+1)\n",
    "            plt.imshow(generated_image[i,:,:,0] * 127.5 + 127.5 )\n",
    "            plt.axis(\"off\")\n",
    "        plt.show\n",
    "\n"
   ]
  },
  {
   "cell_type": "code",
   "execution_count": 217,
   "metadata": {},
   "outputs": [
    {
     "name": "stdout",
     "output_type": "stream",
     "text": [
      "Training Epoch: 1\n",
      "Training Epoch: 2\n"
     ]
    }
   ],
   "source": [
    "train_GAN(X_train, epochs=20, test_images = test_image)"
   ]
  }
 ],
 "metadata": {
  "kernelspec": {
   "display_name": "Python 3",
   "language": "python",
   "name": "python3"
  },
  "language_info": {
   "codemirror_mode": {
    "name": "ipython",
    "version": 3
   },
   "file_extension": ".py",
   "mimetype": "text/x-python",
   "name": "python",
   "nbconvert_exporter": "python",
   "pygments_lexer": "ipython3",
   "version": "3.9.7"
  }
 },
 "nbformat": 4,
 "nbformat_minor": 2
}
