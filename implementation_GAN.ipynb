{
 "cells": [
  {
   "cell_type": "code",
   "execution_count": 1,
   "metadata": {},
   "outputs": [],
   "source": [
    "import matplotlib.pyplot as plt\n",
    "import numpy as np\n",
    "import tensorflow as tf\n",
    "from keras import layers"
   ]
  },
  {
   "cell_type": "code",
   "execution_count": 98,
   "metadata": {},
   "outputs": [],
   "source": [
    "# read the dataset\n",
    "(X_train, y_train), (X_test,y_test) = tf.keras.datasets.mnist.load_data()"
   ]
  },
  {
   "cell_type": "code",
   "execution_count": 99,
   "metadata": {},
   "outputs": [],
   "source": [
    "def display_image(training_images, training_labels, number_of_images_disply, name_of_dataset):\n",
    "    \n",
    "    if not training_images.shape[0] == 0:\n",
    "        # display images from the dataset\n",
    "        index= []\n",
    "        while  len(index) < number_of_images_disply:\n",
    "            i = np.random.randint(0,training_labels.shape[0])\n",
    "            index.append(i)\n",
    "\n",
    "        print(training_images[0].shape)\n",
    "        \n",
    "        \n",
    "\n",
    "        num_rows = 1  # Number of rows\n",
    "        num_cols = len(index)  # Number of columns\n",
    "\n",
    "            # Create a figure with a grid layout\n",
    "        fig, axes = plt.subplots(num_rows, num_cols, figsize=(12, 4))\n",
    "\n",
    "            # If there is only one image, `axes` is not a list, so we need to convert it to a list\n",
    "        if num_cols == 1:\n",
    "            axes = [axes]\n",
    "\n",
    "            # Iterate through the images and display them\n",
    "        for i, ax in enumerate(axes):\n",
    "            ax.imshow(training_images[index[i]])\n",
    "           \n",
    "            ax.axis('off')\n",
    "            \n",
    "\n",
    "        plt.title(f\"Images from datasets {name_of_dataset}\")\n",
    "        plt.show()\n",
    "\n",
    "    else:\n",
    "        ValueError(\"training_x_images doesn't contain images, it is empty\")"
   ]
  },
  {
   "cell_type": "code",
   "execution_count": 100,
   "metadata": {},
   "outputs": [
    {
     "name": "stdout",
     "output_type": "stream",
     "text": [
      "(28, 28)\n"
     ]
    },
    {
     "data": {
      "image/png": "[encoded data removed]",
      "text/plain": [
       "<Figure size 1200x400 with 5 Axes>"
      ]
     },
     "metadata": {},
     "output_type": "display_data"
    }
   ],
   "source": [
    "display_image(X_train,y_train,5,\"MNIST\")"
   ]
  },
  {
   "cell_type": "code",
   "execution_count": 101,
   "metadata": {},
   "outputs": [],
   "source": [
    "X_train = X_train.reshape(X_train.shape[0],28,28,1).astype('float32')"
   ]
  },
  {
   "cell_type": "code",
   "execution_count": 102,
   "metadata": {},
   "outputs": [
    {
     "data": {
      "text/plain": [
       "(60000, 28, 28, 1)"
      ]
     },
     "execution_count": 102,
     "metadata": {},
     "output_type": "execute_result"
    }
   ],
   "source": [
    "X_train.shape"
   ]
  },
  {
   "cell_type": "code",
   "execution_count": 103,
   "metadata": {},
   "outputs": [
    {
     "data": {
      "text/plain": [
       "(0.0, 255.0)"
      ]
     },
     "execution_count": 103,
     "metadata": {},
     "output_type": "execute_result"
    }
   ],
   "source": [
    "X_train[0].min(),X_train[0].max()"
   ]
  },
  {
   "cell_type": "markdown",
   "metadata": {},
   "source": [
    "As we have noticed now the min max values has different ranges so it is better to have them on the same range. Which makes processing faster and efficient."
   ]
  },
  {
   "cell_type": "code",
   "execution_count": 104,
   "metadata": {},
   "outputs": [],
   "source": [
    "# Normalization of image data\n",
    "#X_train = X_train / 255.0\n",
    "X_train = (X_train - 127.5) / 127.5"
   ]
  },
  {
   "cell_type": "code",
   "execution_count": 106,
   "metadata": {},
   "outputs": [],
   "source": [
    "buffer_size = 60000\n",
    "batch_size = 256"
   ]
  },
  {
   "cell_type": "code",
   "execution_count": 108,
   "metadata": {},
   "outputs": [],
   "source": [
    "# Convert the array to tensor\n",
    "X_train = tf.data.Dataset.from_tensor_slices(X_train).shuffle(buffer_size).batch(batch_size)"
   ]
  },
  {
   "cell_type": "code",
   "execution_count": 111,
   "metadata": {},
   "outputs": [
    {
     "name": "stderr",
     "output_type": "stream",
     "text": [
      "To https://github.com/GVanave/Image-Generation-with-GAN\n",
      "   b9c8bad..076a216  main -> main\n"
     ]
    }
   ],
   "source": [
    "!git push"
   ]
  },
  {
   "cell_type": "markdown",
   "metadata": {},
   "source": [
    "# Design the Generator"
   ]
  },
  {
   "cell_type": "code",
   "execution_count": 122,
   "metadata": {},
   "outputs": [],
   "source": [
    "\n",
    "\n",
    "def Generator():\n",
    "    generator_net = tf.keras.Sequential()\n",
    "\n",
    "    generator_net.add(layers.Dense(7*7*256, input_shape=(100,)) ) # Fully connected layer\n",
    "    generator_net.add(layers.BatchNormalization())\n",
    "    generator_net.add(layers.LeakyReLU())\n",
    "\n",
    "    # Reshape the input because we want to use the convolutional layers\n",
    "    generator_net.add(layers.Reshape((7, 7, 256)))\n",
    "    generator_net.add(layers.Conv2DTranspose(128, (5, 5), strides=(2, 2), padding='same'))\n",
    "    generator_net.add(layers.BatchNormalization())\n",
    "    generator_net.add(layers.LeakyReLU())\n",
    "\n",
    "    generator_net.add(layers.Conv2DTranspose(64, (5, 5), strides=(2, 2), padding='same'))\n",
    "    generator_net.add(layers.BatchNormalization())\n",
    "    generator_net.add(layers.LeakyReLU())\n",
    "\n",
    "    generator_net.add(layers.Conv2DTranspose(1, (5, 5), strides=(2, 2), padding='same', activation='sigmoid'))\n",
    "    generator_net.add(layers.BatchNormalization())\n",
    "\n",
    "    generator_net.summary()\n",
    "\n",
    "    return generator_net\n",
    "\n"
   ]
  },
  {
   "cell_type": "code",
   "execution_count": 124,
   "metadata": {},
   "outputs": [
    {
     "name": "stdout",
     "output_type": "stream",
     "text": [
      "Model: \"sequential_6\"\n",
      "_________________________________________________________________\n",
      " Layer (type)                Output Shape              Param #   \n",
      "=================================================================\n",
      " dense_3 (Dense)             (None, 12544)             1266944   \n",
      "                                                                 \n",
      " batch_normalization_12 (Bat  (None, 12544)            50176     \n",
      " chNormalization)                                                \n",
      "                                                                 \n",
      " leaky_re_lu_9 (LeakyReLU)   (None, 12544)             0         \n",
      "                                                                 \n",
      " reshape_3 (Reshape)         (None, 7, 7, 256)         0         \n",
      "                                                                 \n",
      " conv2d_transpose_9 (Conv2DT  (None, 14, 14, 128)      819328    \n",
      " ranspose)                                                       \n",
      "                                                                 \n",
      " batch_normalization_13 (Bat  (None, 14, 14, 128)      512       \n",
      " chNormalization)                                                \n",
      "                                                                 \n",
      " leaky_re_lu_10 (LeakyReLU)  (None, 14, 14, 128)       0         \n",
      "                                                                 \n",
      " conv2d_transpose_10 (Conv2D  (None, 28, 28, 64)       204864    \n",
      " Transpose)                                                      \n",
      "                                                                 \n",
      " batch_normalization_14 (Bat  (None, 28, 28, 64)       256       \n",
      " chNormalization)                                                \n",
      "                                                                 \n",
      " leaky_re_lu_11 (LeakyReLU)  (None, 28, 28, 64)        0         \n",
      "                                                                 \n",
      " conv2d_transpose_11 (Conv2D  (None, 56, 56, 1)        1601      \n",
      " Transpose)                                                      \n",
      "                                                                 \n",
      " batch_normalization_15 (Bat  (None, 56, 56, 1)        4         \n",
      " chNormalization)                                                \n",
      "                                                                 \n",
      "=================================================================\n",
      "Total params: 2,343,685\n",
      "Trainable params: 2,318,211\n",
      "Non-trainable params: 25,474\n",
      "_________________________________________________________________\n"
     ]
    }
   ],
   "source": [
    "generator = Generator()"
   ]
  },
  {
   "cell_type": "code",
   "execution_count": null,
   "metadata": {},
   "outputs": [],
   "source": []
  }
 ],
 "metadata": {
  "kernelspec": {
   "display_name": "Python 3",
   "language": "python",
   "name": "python3"
  },
  "language_info": {
   "codemirror_mode": {
    "name": "ipython",
    "version": 3
   },
   "file_extension": ".py",
   "mimetype": "text/x-python",
   "name": "python",
   "nbconvert_exporter": "python",
   "pygments_lexer": "ipython3",
   "version": "3.9.7"
  }
 },
 "nbformat": 4,
 "nbformat_minor": 2
}
